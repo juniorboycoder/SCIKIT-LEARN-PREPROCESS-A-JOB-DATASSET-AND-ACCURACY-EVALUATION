{
 "cells": [
  {
   "cell_type": "code",
   "execution_count": 286,
   "metadata": {},
   "outputs": [
    {
     "name": "stdout",
     "output_type": "stream",
     "text": [
      "(3124, 28)\n",
      "Binarized data:\n",
      "\n",
      " [[1 1 1 ... 1 1 0]\n",
      " [1 1 0 ... 1 0 0]\n",
      " [1 1 0 ... 1 0 0]\n",
      " ...\n",
      " [1 1 0 ... 1 1 0]\n",
      " [1 1 0 ... 1 1 0]\n",
      " [1 1 0 ... 1 1 0]]\n"
     ]
    },
    {
     "name": "stderr",
     "output_type": "stream",
     "text": [
      "C:\\ProgramData\\Anaconda3\\lib\\site-packages\\sklearn\\linear_model\\logistic.py:433: FutureWarning: Default solver will be changed to 'lbfgs' in 0.22. Specify a solver to silence this warning.\n",
      "  FutureWarning)\n",
      "C:\\ProgramData\\Anaconda3\\lib\\site-packages\\sklearn\\linear_model\\logistic.py:460: FutureWarning: Default multi_class will be changed to 'auto' in 0.22. Specify the multi_class option to silence this warning.\n",
      "  \"this warning.\", FutureWarning)\n"
     ]
    },
    {
     "name": "stdout",
     "output_type": "stream",
     "text": [
      "Original accuracy  without automatic feature selection on train data 0.5678271308523409\n",
      "Original accuracy without automatic feature selection on test data 0.5648\n",
      "(2499, 28)\n",
      "(2499, 14)\n"
     ]
    },
    {
     "name": "stderr",
     "output_type": "stream",
     "text": [
      "C:\\ProgramData\\Anaconda3\\lib\\site-packages\\sklearn\\feature_selection\\univariate_selection.py:114: UserWarning: Features [ 2  7 22 27] are constant.\n",
      "  UserWarning)\n",
      "C:\\ProgramData\\Anaconda3\\lib\\site-packages\\sklearn\\feature_selection\\univariate_selection.py:115: RuntimeWarning: divide by zero encountered in true_divide\n",
      "  f = msb / msw\n",
      "C:\\ProgramData\\Anaconda3\\lib\\site-packages\\sklearn\\feature_selection\\univariate_selection.py:115: RuntimeWarning: invalid value encountered in true_divide\n",
      "  f = msb / msw\n",
      "C:\\ProgramData\\Anaconda3\\lib\\site-packages\\sklearn\\linear_model\\logistic.py:433: FutureWarning: Default solver will be changed to 'lbfgs' in 0.22. Specify a solver to silence this warning.\n",
      "  FutureWarning)\n",
      "C:\\ProgramData\\Anaconda3\\lib\\site-packages\\sklearn\\linear_model\\logistic.py:460: FutureWarning: Default multi_class will be changed to 'auto' in 0.22. Specify the multi_class option to silence this warning.\n",
      "  \"this warning.\", FutureWarning)\n"
     ]
    },
    {
     "name": "stdout",
     "output_type": "stream",
     "text": [
      "Accurracy when selectpercentile automatic feature selection is used on test data 0.5584\n"
     ]
    },
    {
     "data": {
      "image/png": "[encoded data removed]",
      "text/plain": [
       "<Figure size 432x288 with 1 Axes>"
      ]
     },
     "metadata": {
      "needs_background": "light"
     },
     "output_type": "display_data"
    }
   ],
   "source": [
    "import numpy as np\n",
    "import pandas as pd\n",
    "from sklearn import preprocessing, neighbors,model_selection\n",
    "from sklearn.linear_model import LogisticRegression\n",
    "from sklearn.svm import SVC\n",
    "from sklearn import preprocessing\n",
    "from sklearn.neighbors import KNeighborsClassifier\n",
    "from sklearn.tree import DecisionTreeClassifier\n",
    "from sklearn.discriminant_analysis import LinearDiscriminantAnalysis\n",
    "from sklearn.naive_bayes import GaussianNB\n",
    "\n",
    "from sklearn.feature_selection import SelectPercentile\n",
    "import matplotlib.pyplot as plt\n",
    "\n",
    "%matplotlib inline\n",
    "\n",
    "\n",
    "#THIS TRAINS BASED ON THIS JOB DATASET, TO HELP PREDICT THE LEVEL A WORKER IS BASED ON ALL OTHER FEATURES\n",
    "\n",
    "\n",
    "#Load in dataset\n",
    "df=pd.read_csv('nyc-jobs.csv', names=['Job ID', 'Agency', 'Posting Type', '# Of Positions', 'Business Title',\n",
    "       'Civil Service Title', 'Title Code No', 'Level', 'Job Category',\n",
    "       'Full-Time/Part-Time indicator', 'Salary Range From', 'Salary Range To',\n",
    "       'Salary Frequency','Work Location', 'Division/Work Unit',\n",
    "       'Job Description', 'Minimum Qual Requirements', 'Preferred Skills',\n",
    "       'Additional Information', 'To Apply', 'Hours/Shift', 'Work Location 1',\n",
    "       'Recruitment Contact', 'Residency Requirement', 'Posting Date',\n",
    "       'Post Until', 'Posting Updated', 'Process Date'])\n",
    "\n",
    "#print dataset shape\n",
    "print(df.shape)\n",
    "\n",
    "\n",
    "\n",
    "#PREPROCESSING THE DATASET\n",
    "\n",
    "\n",
    "\n",
    "#Encode all your features columns before converting to array\n",
    "for column in df.columns:\n",
    "    if df[column].dtype == type(object):\n",
    "        le = preprocessing.LabelEncoder()\n",
    "        df[column] = le.fit_transform(df[column].astype(str))\n",
    "        \n",
    "\n",
    "#Convert the X Features to array\n",
    "X=np.array(df)\n",
    "\n",
    "#apply binary preprocessing to convert X to ones and zeros\n",
    "bindata = preprocessing.Binarizer(threshold=1.5).transform(X)\n",
    "print('Binarized data:\\n\\n', bindata)\n",
    "\n",
    "\n",
    "#Convert the y labels to array\n",
    "y=np.array(df['Level'])\n",
    "\n",
    "\n",
    "\n",
    "#TRAINING OR FITTING\n",
    "\n",
    "\n",
    "\n",
    "#split data\n",
    "X_train, X_test, y_train, y_test = model_selection.train_test_split(bindata, y, test_size=0.2) \n",
    "\n",
    "#CHOOSE A CLASIFIER ALGORITHM\n",
    "\n",
    "clasifier =LogisticRegression(C=1000)\n",
    "\n",
    "#use algorithm to train\n",
    "clasifier.fit(X_train,y_train)\n",
    "\n",
    "#test algorithm on test and train data\n",
    "accuracy = clasifier.score(X_train, y_train)\n",
    "print(\"Original accuracy  without automatic feature selection on train data\",accuracy )\n",
    "\n",
    "accuracy = clasifier.score(X_test, y_test)\n",
    "print(\"Original accuracy without automatic feature selection on test data\",accuracy )\n",
    "\n",
    "\n",
    "\n",
    "\n",
    "\n",
    "\n",
    "\n",
    "#VISUALISE X AND Y DATA\n",
    "\n",
    "\n",
    "plt.plot(X_train.min(axis=0), 'o', label='Min')\n",
    "plt.plot(X_train.max(axis=0), 'v', label='Max')\n",
    "plt.xlabel('Feature Index')\n",
    "plt.ylabel('Feature label')\n",
    "\n",
    "plt.legend(loc='upper right')\n",
    "\n",
    "\n",
    "\n",
    "\n",
    "\n",
    "\n",
    "\n",
    "\n",
    "\n",
    "#CHOOSE AN AUTOMATIC FEATURE SELECTION\n",
    "\n",
    "\n",
    "\n",
    "#I CHOOSE SELECTPERCENTILE\n",
    "\n",
    "#applying the select percentile to transform x_train and printing the shape versus the original one\n",
    "\n",
    "Featureselection= SelectPercentile(percentile=50)   \n",
    "\n",
    "\n",
    "Featureselection.fit(X_train,y_train)\n",
    "xtrainselected=Featureselection.transform(X_train)\n",
    "xtest=Featureselection.transform(X_test)\n",
    "\n",
    "#print to see if the selectpercentile worked\n",
    "print (X_train.shape)\n",
    "\n",
    "print (xtrainselected.shape)\n",
    "\n",
    "\n",
    "#to train on the select percentile  data\n",
    "\n",
    "clasifier.fit(xtrainselected,y_train)\n",
    "\n",
    "\n",
    "accuracy = clasifier.score(xtest, y_test)\n",
    "\n",
    "print (\"Accurracy when selectpercentile automatic feature selection is used on test data\" ,accuracy)\n",
    "\n"
   ]
  },
  {
   "cell_type": "markdown",
   "metadata": {},
   "source": []
  },
  {
   "cell_type": "code",
   "execution_count": null,
   "metadata": {},
   "outputs": [],
   "source": []
  },
  {
   "cell_type": "code",
   "execution_count": null,
   "metadata": {},
   "outputs": [],
   "source": []
  },
  {
   "cell_type": "code",
   "execution_count": null,
   "metadata": {},
   "outputs": [],
   "source": []
  },
  {
   "cell_type": "code",
   "execution_count": null,
   "metadata": {},
   "outputs": [],
   "source": []
  }
 ],
 "metadata": {
  "kernelspec": {
   "display_name": "Python 3",
   "language": "python",
   "name": "python3"
  },
  "language_info": {
   "codemirror_mode": {
    "name": "ipython",
    "version": 3
   },
   "file_extension": ".py",
   "mimetype": "text/x-python",
   "name": "python",
   "nbconvert_exporter": "python",
   "pygments_lexer": "ipython3",
   "version": "3.7.3"
  }
 },
 "nbformat": 4,
 "nbformat_minor": 2
}
